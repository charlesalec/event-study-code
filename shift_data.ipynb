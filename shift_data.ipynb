{
 "cells": [
  {
   "cell_type": "code",
   "execution_count": 8,
   "metadata": {},
   "outputs": [
    {
     "name": "stdout",
     "output_type": "stream",
     "text": [
      "  T-255 T-254       T-253       T-252        T-251        T-250        T-249  \\\n",
      "0                                                0   -41,843975   -23,170734   \n",
      "1                                       -0,5674243    -3,203708   0,24578571   \n",
      "2                          -2,6825547   -2,2970915   -1,7241418    2,0733595   \n",
      "3                          -1,8115699   -1,8969476  -0,38406253     1,576674   \n",
      "4                          -6,5040646   -3,4782588   0,90090036   -4,4642744   \n",
      "5                          -1,9392729  -0,09637475  -0,40501952  -0,14410019   \n",
      "6              -3,7383318   0,9708762   -1,9230723   -3,2843113   -3,7404895   \n",
      "7               1,0180235  0,62236786    1,3838887  -0,10101795   0,14019012   \n",
      "8              -7,6923013           0   -16,666668            0    20,000004   \n",
      "9              -1,1388063    1,777792    1,0180235   0,62236786    1,3838887   \n",
      "\n",
      "         T-248        T-247       T-246  ...        T+246         T+247  \\\n",
      "0            0            0           0  ...    26,190472             0   \n",
      "1    -1,646322  -0,12959838   2,3869753  ...    1,0209084    0,31784773   \n",
      "2     -2,34375   -3,3599973    0,993371  ...   -11,111111    -6,9277105   \n",
      "3   0,08811951    -2,117312  -0,7166147  ...     1,068449    -0,3186345   \n",
      "4     4,672885   -1,7857134  -3,6363661  ...    1,7344475    0,04390478   \n",
      "5    0,9160042     0,281775  -1,4243603  ...   0,14305115   0,037014484   \n",
      "6    3,9069057   0,48646927   3,8830042  ...  -0,31396747    -3,5826802   \n",
      "7   -0,2989769  -0,26261806  0,63740015  ...   0,26470423  -0,007623434   \n",
      "8   -16,666668    59,999992        12,5  ...      9,99999     -9,090906   \n",
      "9  -0,10101795   0,14019012  -0,2989769  ...   0,45993328     1,3650656   \n",
      "\n",
      "         T+248         T+249        T+250        T+251       T+252 T+253  \\\n",
      "0    16,981136             0    6,4516187            0                     \n",
      "1     -1,57305    -0,3435433   0,91284513    1,2556791                     \n",
      "2    1,1326909    -2,9599965    1,4839292    3,9805055                     \n",
      "3   0,23103952     0,8241415  0,057053566   0,57423115                     \n",
      "4    -5,407381    -1,0309339    -6,510419     3,621173           0         \n",
      "5  -0,28264523   -0,56605935   -0,8016288  -0,34283996  0,18256903         \n",
      "6   -0,6329119    -11,238956  -0,69444776     5,687642   4,7860622         \n",
      "7   0,45284033    0,58664083    -1,468426    1,0301471  0,16601086         \n",
      "8      9,99999     -9,090906    20,000004  -0,16666651   -8,180303         \n",
      "9   0,26470423  -0,007623434   0,45284033   0,58664083   -1,468426         \n",
      "\n",
      "  T+254 T+255  \n",
      "0              \n",
      "1              \n",
      "2              \n",
      "3              \n",
      "4              \n",
      "5              \n",
      "6              \n",
      "7              \n",
      "8              \n",
      "9              \n",
      "\n",
      "[10 rows x 511 columns]\n"
     ]
    }
   ],
   "source": [
    "import pandas as pd\n",
    "import numpy as np\n",
    "\n",
    "# Load the CSV file\n",
    "prices = pd.read_csv('Extrarow_with_empty_rows_update.csv', sep=';')\n",
    "\n",
    "\n",
    "# Replace NaN values with empty strings for easier processing (optional)\n",
    "prices = prices.replace(np.nan, \"\", regex=True)\n",
    "\n",
    "# Get the index of the 'SPLIT' column\n",
    "split_index = prices.columns.get_loc('SPLIT')\n",
    "\n",
    "# Iterate through each row and shift non-empty cells inward toward the 'SPLIT' column\n",
    "def shift_towards_split(row, split_index):\n",
    "    left_values = row[:split_index].values  # Values to the left of 'SPLIT'\n",
    "    non_empty_values = [v for v in left_values if v != \"\"]  # Filter out empty strings\n",
    "    padding = [\"\"] * (split_index - len(non_empty_values))  # Padding of empty cells on the left\n",
    "    shifted_row = padding + non_empty_values  # Shift non-empty values inward to the right\n",
    "    row[:split_index] = shifted_row  # Update the row's left-hand side\n",
    "    return row\n",
    "\n",
    "# Apply the shift function to each row\n",
    "prices = prices.apply(lambda row: shift_towards_split(row, split_index), axis=1)\n",
    "\n",
    "# Save the modified DataFrame back to a CSV\n",
    "prices.to_csv('returns_shifted.csv', sep=';')\n",
    "\n",
    "# Optional: display the modified dataframe\n",
    "print(prices.head(10))\n",
    "\n"
   ]
  },
  {
   "cell_type": "code",
   "execution_count": null,
   "metadata": {},
   "outputs": [],
   "source": []
  }
 ],
 "metadata": {
  "kernelspec": {
   "display_name": "investments",
   "language": "python",
   "name": "python3"
  },
  "language_info": {
   "codemirror_mode": {
    "name": "ipython",
    "version": 3
   },
   "file_extension": ".py",
   "mimetype": "text/x-python",
   "name": "python",
   "nbconvert_exporter": "python",
   "pygments_lexer": "ipython3",
   "version": "3.12.2"
  }
 },
 "nbformat": 4,
 "nbformat_minor": 2
}
